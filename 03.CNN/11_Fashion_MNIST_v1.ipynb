{
  "nbformat": 4,
  "nbformat_minor": 0,
  "metadata": {
    "colab": {
      "name": "11_Fashion_MNIST_v1",
      "provenance": [],
      "collapsed_sections": []
    },
    "kernelspec": {
      "name": "python3",
      "display_name": "Python 3"
    },
    "language_info": {
      "name": "python"
    },
    "accelerator": "GPU"
  },
  "cells": [
    {
      "cell_type": "markdown",
      "source": [
        "# Fashion_MNIST_v1\n",
        "- 2 x Conv2D layers\n",
        "- 1 MaxPooling2D layer\n",
        "- 1 Dropout(0.25) layer\n",
        "- 1 FCN layers\n",
        "- 1 Dropout(0.5) layer\n",
        "- 1 Output layers"
      ],
      "metadata": {
        "id": "Frod5-jUd6Rw"
      }
    },
    {
      "cell_type": "code",
      "execution_count": 1,
      "metadata": {
        "id": "BXIGbUFmd2VB"
      },
      "outputs": [],
      "source": [
        "import numpy as np\n",
        "import matplotlib.pyplot as plt\n",
        "import tensorflow as tf\n",
        "seed = 2022\n",
        "np.random.seed(seed)\n",
        "tf.random.set_seed(seed)"
      ]
    },
    {
      "cell_type": "markdown",
      "source": [
        "- 데이터 전처리"
      ],
      "metadata": {
        "id": "yn6DtS2NfMam"
      }
    },
    {
      "cell_type": "code",
      "source": [
        "from tensorflow.keras.datasets import fashion_mnist\n",
        "(X_train, y_train), (X_test, y_test) = fashion_mnist.load_data()\n",
        "X_train.shape, y_train.shape, X_test.shape, y_test.shape"
      ],
      "metadata": {
        "colab": {
          "base_uri": "https://localhost:8080/"
        },
        "id": "M5a4NzVEeLBS",
        "outputId": "b2804f37-cf50-4585-b55a-7a244a0ca918"
      },
      "execution_count": 2,
      "outputs": [
        {
          "output_type": "stream",
          "name": "stdout",
          "text": [
            "Downloading data from https://storage.googleapis.com/tensorflow/tf-keras-datasets/train-labels-idx1-ubyte.gz\n",
            "32768/29515 [=================================] - 0s 0us/step\n",
            "40960/29515 [=========================================] - 0s 0us/step\n",
            "Downloading data from https://storage.googleapis.com/tensorflow/tf-keras-datasets/train-images-idx3-ubyte.gz\n",
            "26427392/26421880 [==============================] - 0s 0us/step\n",
            "26435584/26421880 [==============================] - 0s 0us/step\n",
            "Downloading data from https://storage.googleapis.com/tensorflow/tf-keras-datasets/t10k-labels-idx1-ubyte.gz\n",
            "16384/5148 [===============================================================================================] - 0s 0us/step\n",
            "Downloading data from https://storage.googleapis.com/tensorflow/tf-keras-datasets/t10k-images-idx3-ubyte.gz\n",
            "4423680/4422102 [==============================] - 0s 0us/step\n",
            "4431872/4422102 [==============================] - 0s 0us/step\n"
          ]
        },
        {
          "output_type": "execute_result",
          "data": {
            "text/plain": [
              "((60000, 28, 28), (60000,), (10000, 28, 28), (10000,))"
            ]
          },
          "metadata": {},
          "execution_count": 2
        }
      ]
    },
    {
      "cell_type": "code",
      "source": [
        "plt.imshow(X_train[0], cmap='Greys');"
      ],
      "metadata": {
        "colab": {
          "base_uri": "https://localhost:8080/",
          "height": 265
        },
        "id": "z33So_RuzaL0",
        "outputId": "63a1ca7d-640f-4ae0-9aa8-02d502056551"
      },
      "execution_count": 4,
      "outputs": [
        {
          "output_type": "display_data",
          "data": {
            "text/plain": [
              "<Figure size 432x288 with 1 Axes>"
            ],
            "image/png": "[encoded data removed]"
          },
          "metadata": {
            "needs_background": "light"
          }
        }
      ]
    },
    {
      "cell_type": "code",
      "source": [
        "class_names = ['T-shirt/top', 'Trouser', 'Pullover', 'Dress', 'Coat',\n",
        "               'Sandal', 'Shirt', 'Sneaker', 'Bag', 'Ankle boot']"
      ],
      "metadata": {
        "id": "Z95CDJ6XzmZA"
      },
      "execution_count": 5,
      "outputs": []
    },
    {
      "cell_type": "code",
      "source": [
        "plt.figure(figsize=(13,5))\n",
        "for i in range(1,11):\n",
        "  plt.subplot(2, 5, i)\n",
        "  plt.imshow(X_train[i], cmap='Greys')\n",
        "  plt.title(class_names[y_train[i]])\n",
        "  plt.xticks([]), plt.yticks([])\n",
        "plt.show()"
      ],
      "metadata": {
        "colab": {
          "base_uri": "https://localhost:8080/",
          "height": 322
        },
        "id": "GiU6KZYGztqy",
        "outputId": "f38a0a74-4dc4-4486-f94f-63b630a9f57d"
      },
      "execution_count": 8,
      "outputs": [
        {
          "output_type": "display_data",
          "data": {
            "text/plain": [
              "<Figure size 936x360 with 10 Axes>"
            ],
            "image/png": "[encoded data removed]"
          },
          "metadata": {}
        }
      ]
    },
    {
      "cell_type": "code",
      "source": [
        "# X_train, X_test 정규화(0 ~ 1), # 이미지 차원 변경: 2차원 --> 3차원\n",
        "X_train = X_train.reshape(-1, 28, 28, 1) / 255.\n",
        "X_test = X_test.reshape(-1, 28, 28, 1) / 255.\n",
        "X_train.shape, X_test.shape"
      ],
      "metadata": {
        "colab": {
          "base_uri": "https://localhost:8080/"
        },
        "id": "h35u717FeQkj",
        "outputId": "88a9a809-17ff-4c09-aabf-7ab6bae5e931"
      },
      "execution_count": 9,
      "outputs": [
        {
          "output_type": "execute_result",
          "data": {
            "text/plain": [
              "((60000, 28, 28, 1), (10000, 28, 28, 1))"
            ]
          },
          "metadata": {},
          "execution_count": 9
        }
      ]
    },
    {
      "cell_type": "code",
      "source": [
        "# One hot encoding\n",
        "from tensorflow.keras.utils import to_categorical\n",
        "Y_train = to_categorical(y_train)\n",
        "Y_test = to_categorical(y_test)\n",
        "Y_train.shape, Y_test.shape"
      ],
      "metadata": {
        "colab": {
          "base_uri": "https://localhost:8080/"
        },
        "id": "ItFM-Qq2eze6",
        "outputId": "1b208223-5ec6-4952-e1eb-2ca50b81b4e8"
      },
      "execution_count": 10,
      "outputs": [
        {
          "output_type": "execute_result",
          "data": {
            "text/plain": [
              "((60000, 10), (10000, 10))"
            ]
          },
          "metadata": {},
          "execution_count": 10
        }
      ]
    },
    {
      "cell_type": "markdown",
      "source": [
        "- 모델 정의/설정/학습/평가"
      ],
      "metadata": {
        "id": "HPmKk7QLfGP2"
      }
    },
    {
      "cell_type": "code",
      "source": [
        "from tensorflow.keras.models import Sequential, load_model\n",
        "from tensorflow.keras.layers import Dense, Conv2D, Flatten, MaxPooling2D, Dropout\n",
        "from tensorflow.keras.callbacks import ModelCheckpoint, EarlyStopping"
      ],
      "metadata": {
        "id": "IWe8osxifBuE"
      },
      "execution_count": 12,
      "outputs": []
    },
    {
      "cell_type": "code",
      "source": [
        "model = Sequential([\n",
        "    Conv2D(32, kernel_size= (3,3), input_shape=(28,28,1), activation='relu'),\n",
        "    Conv2D(64, kernel_size= (3,3), activation = 'relu'),\n",
        "    MaxPooling2D(),\n",
        "    Dropout(0.25),\n",
        "    Flatten(), # 1차원으로 싹 풀어줌\n",
        "    Dense(512, activation='relu'),\n",
        "    Dropout(0.5),\n",
        "    Dense(10, activation = 'softmax')\n",
        "])\n",
        "model.summary()"
      ],
      "metadata": {
        "colab": {
          "base_uri": "https://localhost:8080/"
        },
        "id": "Eqp98VlKfshP",
        "outputId": "c6a12f8e-d636-4951-b119-73b3d34eb554"
      },
      "execution_count": 13,
      "outputs": [
        {
          "output_type": "stream",
          "name": "stdout",
          "text": [
            "Model: \"sequential\"\n",
            "_________________________________________________________________\n",
            " Layer (type)                Output Shape              Param #   \n",
            "=================================================================\n",
            " conv2d (Conv2D)             (None, 26, 26, 32)        320       \n",
            "                                                                 \n",
            " conv2d_1 (Conv2D)           (None, 24, 24, 64)        18496     \n",
            "                                                                 \n",
            " max_pooling2d (MaxPooling2D  (None, 12, 12, 64)       0         \n",
            " )                                                               \n",
            "                                                                 \n",
            " dropout (Dropout)           (None, 12, 12, 64)        0         \n",
            "                                                                 \n",
            " flatten (Flatten)           (None, 9216)              0         \n",
            "                                                                 \n",
            " dense (Dense)               (None, 512)               4719104   \n",
            "                                                                 \n",
            " dropout_1 (Dropout)         (None, 512)               0         \n",
            "                                                                 \n",
            " dense_1 (Dense)             (None, 10)                5130      \n",
            "                                                                 \n",
            "=================================================================\n",
            "Total params: 4,743,050\n",
            "Trainable params: 4,743,050\n",
            "Non-trainable params: 0\n",
            "_________________________________________________________________\n"
          ]
        }
      ]
    },
    {
      "cell_type": "code",
      "source": [
        "model.compile('adam', 'categorical_crossentropy', ['accuracy'])"
      ],
      "metadata": {
        "id": "x0m_vU57hmii"
      },
      "execution_count": 14,
      "outputs": []
    },
    {
      "cell_type": "code",
      "source": [
        "model_path = 'best-fashion-mnist-cnn-v1.h5'\n",
        "mc = ModelCheckpoint(model_path, save_best_only = True, verbose = 1)\n",
        "es = EarlyStopping(patience=10)"
      ],
      "metadata": {
        "id": "4n09FSC0i6-8"
      },
      "execution_count": 15,
      "outputs": []
    },
    {
      "cell_type": "code",
      "source": [
        "hist = model.fit(\n",
        "    X_train, Y_train, validation_split=0.2, epochs=100, batch_size = 200,\n",
        "    callbacks=[mc,es]\n",
        ")"
      ],
      "metadata": {
        "colab": {
          "base_uri": "https://localhost:8080/"
        },
        "id": "L0bmwCv-lrxA",
        "outputId": "daf5b364-5b11-4a5e-9519-3e3a2e3d3e8d"
      },
      "execution_count": 16,
      "outputs": [
        {
          "output_type": "stream",
          "name": "stdout",
          "text": [
            "Epoch 1/100\n",
            "239/240 [============================>.] - ETA: 0s - loss: 0.5016 - accuracy: 0.8216\n",
            "Epoch 1: val_loss improved from inf to 0.32116, saving model to best-fashion-mnist-cnn-v1.h5\n",
            "240/240 [==============================] - 14s 15ms/step - loss: 0.5016 - accuracy: 0.8216 - val_loss: 0.3212 - val_accuracy: 0.8828\n",
            "Epoch 2/100\n",
            "237/240 [============================>.] - ETA: 0s - loss: 0.3137 - accuracy: 0.8873\n",
            "Epoch 2: val_loss improved from 0.32116 to 0.27400, saving model to best-fashion-mnist-cnn-v1.h5\n",
            "240/240 [==============================] - 3s 15ms/step - loss: 0.3138 - accuracy: 0.8872 - val_loss: 0.2740 - val_accuracy: 0.8993\n",
            "Epoch 3/100\n",
            "240/240 [==============================] - ETA: 0s - loss: 0.2609 - accuracy: 0.9054\n",
            "Epoch 3: val_loss improved from 0.27400 to 0.23773, saving model to best-fashion-mnist-cnn-v1.h5\n",
            "240/240 [==============================] - 3s 15ms/step - loss: 0.2609 - accuracy: 0.9054 - val_loss: 0.2377 - val_accuracy: 0.9118\n",
            "Epoch 4/100\n",
            "237/240 [============================>.] - ETA: 0s - loss: 0.2265 - accuracy: 0.9167\n",
            "Epoch 4: val_loss improved from 0.23773 to 0.23172, saving model to best-fashion-mnist-cnn-v1.h5\n",
            "240/240 [==============================] - 3s 14ms/step - loss: 0.2266 - accuracy: 0.9166 - val_loss: 0.2317 - val_accuracy: 0.9141\n",
            "Epoch 5/100\n",
            "239/240 [============================>.] - ETA: 0s - loss: 0.2039 - accuracy: 0.9253\n",
            "Epoch 5: val_loss improved from 0.23172 to 0.22535, saving model to best-fashion-mnist-cnn-v1.h5\n",
            "240/240 [==============================] - 3s 15ms/step - loss: 0.2039 - accuracy: 0.9253 - val_loss: 0.2253 - val_accuracy: 0.9187\n",
            "Epoch 6/100\n",
            "237/240 [============================>.] - ETA: 0s - loss: 0.1808 - accuracy: 0.9336\n",
            "Epoch 6: val_loss improved from 0.22535 to 0.21626, saving model to best-fashion-mnist-cnn-v1.h5\n",
            "240/240 [==============================] - 3s 14ms/step - loss: 0.1809 - accuracy: 0.9335 - val_loss: 0.2163 - val_accuracy: 0.9227\n",
            "Epoch 7/100\n",
            "239/240 [============================>.] - ETA: 0s - loss: 0.1583 - accuracy: 0.9413\n",
            "Epoch 7: val_loss improved from 0.21626 to 0.20331, saving model to best-fashion-mnist-cnn-v1.h5\n",
            "240/240 [==============================] - 4s 15ms/step - loss: 0.1585 - accuracy: 0.9411 - val_loss: 0.2033 - val_accuracy: 0.9285\n",
            "Epoch 8/100\n",
            "237/240 [============================>.] - ETA: 0s - loss: 0.1397 - accuracy: 0.9487\n",
            "Epoch 8: val_loss did not improve from 0.20331\n",
            "240/240 [==============================] - 3s 14ms/step - loss: 0.1403 - accuracy: 0.9485 - val_loss: 0.2086 - val_accuracy: 0.9259\n",
            "Epoch 9/100\n",
            "239/240 [============================>.] - ETA: 0s - loss: 0.1292 - accuracy: 0.9523\n",
            "Epoch 9: val_loss improved from 0.20331 to 0.20217, saving model to best-fashion-mnist-cnn-v1.h5\n",
            "240/240 [==============================] - 3s 14ms/step - loss: 0.1292 - accuracy: 0.9523 - val_loss: 0.2022 - val_accuracy: 0.9289\n",
            "Epoch 10/100\n",
            "237/240 [============================>.] - ETA: 0s - loss: 0.1111 - accuracy: 0.9585\n",
            "Epoch 10: val_loss did not improve from 0.20217\n",
            "240/240 [==============================] - 3s 14ms/step - loss: 0.1109 - accuracy: 0.9585 - val_loss: 0.2140 - val_accuracy: 0.9267\n",
            "Epoch 11/100\n",
            "237/240 [============================>.] - ETA: 0s - loss: 0.0986 - accuracy: 0.9632\n",
            "Epoch 11: val_loss did not improve from 0.20217\n",
            "240/240 [==============================] - 3s 14ms/step - loss: 0.0989 - accuracy: 0.9630 - val_loss: 0.2114 - val_accuracy: 0.9309\n",
            "Epoch 12/100\n",
            "240/240 [==============================] - ETA: 0s - loss: 0.0894 - accuracy: 0.9665\n",
            "Epoch 12: val_loss did not improve from 0.20217\n",
            "240/240 [==============================] - 3s 14ms/step - loss: 0.0894 - accuracy: 0.9665 - val_loss: 0.2136 - val_accuracy: 0.9299\n",
            "Epoch 13/100\n",
            "239/240 [============================>.] - ETA: 0s - loss: 0.0785 - accuracy: 0.9711\n",
            "Epoch 13: val_loss did not improve from 0.20217\n",
            "240/240 [==============================] - 3s 14ms/step - loss: 0.0785 - accuracy: 0.9711 - val_loss: 0.2193 - val_accuracy: 0.9323\n",
            "Epoch 14/100\n",
            "238/240 [============================>.] - ETA: 0s - loss: 0.0732 - accuracy: 0.9737\n",
            "Epoch 14: val_loss did not improve from 0.20217\n",
            "240/240 [==============================] - 3s 14ms/step - loss: 0.0733 - accuracy: 0.9736 - val_loss: 0.2249 - val_accuracy: 0.9303\n",
            "Epoch 15/100\n",
            "240/240 [==============================] - ETA: 0s - loss: 0.0666 - accuracy: 0.9762\n",
            "Epoch 15: val_loss did not improve from 0.20217\n",
            "240/240 [==============================] - 3s 14ms/step - loss: 0.0666 - accuracy: 0.9762 - val_loss: 0.2358 - val_accuracy: 0.9324\n",
            "Epoch 16/100\n",
            "238/240 [============================>.] - ETA: 0s - loss: 0.0608 - accuracy: 0.9780\n",
            "Epoch 16: val_loss did not improve from 0.20217\n",
            "240/240 [==============================] - 3s 14ms/step - loss: 0.0608 - accuracy: 0.9780 - val_loss: 0.2314 - val_accuracy: 0.9344\n",
            "Epoch 17/100\n",
            "240/240 [==============================] - ETA: 0s - loss: 0.0538 - accuracy: 0.9805\n",
            "Epoch 17: val_loss did not improve from 0.20217\n",
            "240/240 [==============================] - 3s 14ms/step - loss: 0.0538 - accuracy: 0.9805 - val_loss: 0.2481 - val_accuracy: 0.9313\n",
            "Epoch 18/100\n",
            "238/240 [============================>.] - ETA: 0s - loss: 0.0487 - accuracy: 0.9824\n",
            "Epoch 18: val_loss did not improve from 0.20217\n",
            "240/240 [==============================] - 3s 14ms/step - loss: 0.0489 - accuracy: 0.9822 - val_loss: 0.2613 - val_accuracy: 0.9298\n",
            "Epoch 19/100\n",
            "239/240 [============================>.] - ETA: 0s - loss: 0.0457 - accuracy: 0.9826\n",
            "Epoch 19: val_loss did not improve from 0.20217\n",
            "240/240 [==============================] - 3s 14ms/step - loss: 0.0457 - accuracy: 0.9825 - val_loss: 0.2598 - val_accuracy: 0.9327\n"
          ]
        }
      ]
    },
    {
      "cell_type": "code",
      "source": [
        "best_model = load_model(model_path)\n",
        "best_model.evaluate(X_test, Y_test)"
      ],
      "metadata": {
        "colab": {
          "base_uri": "https://localhost:8080/"
        },
        "id": "uO3M8JfRl8d3",
        "outputId": "babfa595-81f3-4aa5-9d7c-18b9b9651f59"
      },
      "execution_count": 17,
      "outputs": [
        {
          "output_type": "stream",
          "name": "stdout",
          "text": [
            "313/313 [==============================] - 1s 3ms/step - loss: 0.2185 - accuracy: 0.9228\n"
          ]
        },
        {
          "output_type": "execute_result",
          "data": {
            "text/plain": [
              "[0.2184641808271408, 0.9228000044822693]"
            ]
          },
          "metadata": {},
          "execution_count": 17
        }
      ]
    },
    {
      "cell_type": "markdown",
      "source": [
        "- 학습과정 시각화"
      ],
      "metadata": {
        "id": "BbddZjZAnZ0b"
      }
    },
    {
      "cell_type": "code",
      "source": [
        "y_acc = hist.history['accuracy']\n",
        "y_vloss = hist.history['val_loss']\n",
        "xs = np.arange(1, len(y_acc)+1)"
      ],
      "metadata": {
        "id": "7LBx8lI8nPik"
      },
      "execution_count": 18,
      "outputs": []
    },
    {
      "cell_type": "code",
      "source": [
        "plt.figure(figsize=(12,8))\n",
        "plt.plot(xs, y_acc, label='train accuracy')\n",
        "plt.plot(xs, y_vloss, label='validation loss')\n",
        "plt.legend(), plt.grid()\n",
        "plt.xlabel('Epoch')\n",
        "plt.title('Fashion MNIST CNN model v1')\n",
        "plt.show()"
      ],
      "metadata": {
        "colab": {
          "base_uri": "https://localhost:8080/",
          "height": 513
        },
        "id": "HNfveZounb7J",
        "outputId": "4564ac6e-95ad-4167-8a85-0dd4c50c58e1"
      },
      "execution_count": 20,
      "outputs": [
        {
          "output_type": "display_data",
          "data": {
            "text/plain": [
              "<Figure size 864x576 with 1 Axes>"
            ],
            "image/png": "[encoded data removed]"
          },
          "metadata": {
            "needs_background": "light"
          }
        }
      ]
    }
  ]
}