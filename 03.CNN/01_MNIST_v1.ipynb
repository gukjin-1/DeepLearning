{
  "nbformat": 4,
  "nbformat_minor": 0,
  "metadata": {
    "colab": {
      "name": "01_MNIST_v1",
      "provenance": [],
      "collapsed_sections": []
    },
    "kernelspec": {
      "name": "python3",
      "display_name": "Python 3"
    },
    "language_info": {
      "name": "python"
    },
    "accelerator": "GPU"
  },
  "cells": [
    {
      "cell_type": "markdown",
      "source": [
        "# MNIST 소글씨 - CNN v1\n",
        "- 2 x Conv2D layers\n",
        "- 1 FCN layers\n",
        "- 1 Output layers"
      ],
      "metadata": {
        "id": "Frod5-jUd6Rw"
      }
    },
    {
      "cell_type": "code",
      "execution_count": 1,
      "metadata": {
        "id": "BXIGbUFmd2VB"
      },
      "outputs": [],
      "source": [
        "import numpy as np\n",
        "import matplotlib.pyplot as plt\n",
        "import tensorflow as tf\n",
        "seed = 2022\n",
        "np.random.seed(seed)\n",
        "tf.random.set_seed(seed)"
      ]
    },
    {
      "cell_type": "markdown",
      "source": [
        "- 데이터 전처리"
      ],
      "metadata": {
        "id": "yn6DtS2NfMam"
      }
    },
    {
      "cell_type": "code",
      "source": [
        "from tensorflow.keras.datasets import mnist\n",
        "(X_train, y_train), (X_test, y_test) = mnist.load_data()\n",
        "X_train.shape, y_train.shape, X_test.shape, y_test.shape"
      ],
      "metadata": {
        "colab": {
          "base_uri": "https://localhost:8080/"
        },
        "id": "M5a4NzVEeLBS",
        "outputId": "094a15b0-0996-4892-c342-a7f739e8ee4f"
      },
      "execution_count": 2,
      "outputs": [
        {
          "output_type": "stream",
          "name": "stdout",
          "text": [
            "Downloading data from https://storage.googleapis.com/tensorflow/tf-keras-datasets/mnist.npz\n",
            "11493376/11490434 [==============================] - 0s 0us/step\n",
            "11501568/11490434 [==============================] - 0s 0us/step\n"
          ]
        },
        {
          "output_type": "execute_result",
          "data": {
            "text/plain": [
              "((60000, 28, 28), (60000,), (10000, 28, 28), (10000,))"
            ]
          },
          "metadata": {},
          "execution_count": 2
        }
      ]
    },
    {
      "cell_type": "code",
      "source": [
        "# X_train, X_test 정규화(0 ~ 1), # 이미지 차원 변경: 2차원 --> 3차원\n",
        "X_train = X_train.reshape(-1, 28, 28, 1) / 255.\n",
        "X_test = X_test.reshape(-1, 28, 28, 1) / 255.\n",
        "X_train.shape, X_test.shape"
      ],
      "metadata": {
        "colab": {
          "base_uri": "https://localhost:8080/"
        },
        "id": "h35u717FeQkj",
        "outputId": "0d05393a-fa9f-44cb-b952-cd4dcbdbfb86"
      },
      "execution_count": 3,
      "outputs": [
        {
          "output_type": "execute_result",
          "data": {
            "text/plain": [
              "((60000, 28, 28, 1), (10000, 28, 28, 1))"
            ]
          },
          "metadata": {},
          "execution_count": 3
        }
      ]
    },
    {
      "cell_type": "code",
      "source": [
        "# One hot encoding\n",
        "from tensorflow.keras.utils import to_categorical\n",
        "Y_train = to_categorical(y_train)\n",
        "Y_test = to_categorical(y_test)\n",
        "Y_train.shape, Y_test.shape"
      ],
      "metadata": {
        "colab": {
          "base_uri": "https://localhost:8080/"
        },
        "id": "ItFM-Qq2eze6",
        "outputId": "e47692b9-4f83-43c9-b553-76a1775c766a"
      },
      "execution_count": 4,
      "outputs": [
        {
          "output_type": "execute_result",
          "data": {
            "text/plain": [
              "((60000, 10), (10000, 10))"
            ]
          },
          "metadata": {},
          "execution_count": 4
        }
      ]
    },
    {
      "cell_type": "markdown",
      "source": [
        "- 모델 정의/설정/학습/평가"
      ],
      "metadata": {
        "id": "HPmKk7QLfGP2"
      }
    },
    {
      "cell_type": "code",
      "source": [
        "from tensorflow.keras.models import Sequential, load_model\n",
        "from tensorflow.keras.layers import Dense, Conv2D, Flatten\n",
        "from tensorflow.keras.callbacks import ModelCheckpoint, EarlyStopping"
      ],
      "metadata": {
        "id": "IWe8osxifBuE"
      },
      "execution_count": 5,
      "outputs": []
    },
    {
      "cell_type": "code",
      "source": [
        "model = Sequential([\n",
        "    Conv2D(32, kernel_size= (3,3), input_shape=(28,28,1), activation='relu'),\n",
        "    Conv2D(64, kernel_size= (3,3), activation = 'relu'),\n",
        "    Flatten(), # 1차원으로 싹 풀어줌\n",
        "    Dense(512, activation='relu'),\n",
        "    Dense(10, activation = 'softmax')\n",
        "])\n",
        "model.summary()"
      ],
      "metadata": {
        "colab": {
          "base_uri": "https://localhost:8080/"
        },
        "id": "Eqp98VlKfshP",
        "outputId": "b9651012-dda0-4411-cdd6-65fe051cb827"
      },
      "execution_count": 6,
      "outputs": [
        {
          "output_type": "stream",
          "name": "stdout",
          "text": [
            "Model: \"sequential\"\n",
            "_________________________________________________________________\n",
            " Layer (type)                Output Shape              Param #   \n",
            "=================================================================\n",
            " conv2d (Conv2D)             (None, 26, 26, 32)        320       \n",
            "                                                                 \n",
            " conv2d_1 (Conv2D)           (None, 24, 24, 64)        18496     \n",
            "                                                                 \n",
            " flatten (Flatten)           (None, 36864)             0         \n",
            "                                                                 \n",
            " dense (Dense)               (None, 512)               18874880  \n",
            "                                                                 \n",
            " dense_1 (Dense)             (None, 10)                5130      \n",
            "                                                                 \n",
            "=================================================================\n",
            "Total params: 18,898,826\n",
            "Trainable params: 18,898,826\n",
            "Non-trainable params: 0\n",
            "_________________________________________________________________\n"
          ]
        }
      ]
    },
    {
      "cell_type": "code",
      "source": [
        "model.compile('adam', 'categorical_crossentropy', ['accuracy'])"
      ],
      "metadata": {
        "id": "x0m_vU57hmii"
      },
      "execution_count": 7,
      "outputs": []
    },
    {
      "cell_type": "code",
      "source": [
        "model_path = 'best-mnist-cnn-v1.h5'\n",
        "mc = ModelCheckpoint(model_path, save_best_only = True, verbose = 1)\n",
        "es = EarlyStopping(patience=10)"
      ],
      "metadata": {
        "id": "4n09FSC0i6-8"
      },
      "execution_count": 8,
      "outputs": []
    },
    {
      "cell_type": "code",
      "source": [
        "hist = model.fit(\n",
        "    X_train, Y_train, validation_split=0.2, epochs=100, batch_size = 200,\n",
        "    callbacks=[mc,es]\n",
        ")"
      ],
      "metadata": {
        "colab": {
          "base_uri": "https://localhost:8080/"
        },
        "id": "L0bmwCv-lrxA",
        "outputId": "efb98c9c-f7ec-4935-8753-ed2ed1318cab"
      },
      "execution_count": 9,
      "outputs": [
        {
          "output_type": "stream",
          "name": "stdout",
          "text": [
            "Epoch 1/100\n",
            "240/240 [==============================] - ETA: 0s - loss: 0.1520 - accuracy: 0.9533\n",
            "Epoch 1: val_loss improved from inf to 0.05670, saving model to best-mnist-cnn-v1.h5\n",
            "240/240 [==============================] - 16s 24ms/step - loss: 0.1520 - accuracy: 0.9533 - val_loss: 0.0567 - val_accuracy: 0.9832\n",
            "Epoch 2/100\n",
            "238/240 [============================>.] - ETA: 0s - loss: 0.0356 - accuracy: 0.9891\n",
            "Epoch 2: val_loss improved from 0.05670 to 0.05315, saving model to best-mnist-cnn-v1.h5\n",
            "240/240 [==============================] - 5s 21ms/step - loss: 0.0354 - accuracy: 0.9891 - val_loss: 0.0531 - val_accuracy: 0.9859\n",
            "Epoch 3/100\n",
            "238/240 [============================>.] - ETA: 0s - loss: 0.0173 - accuracy: 0.9947\n",
            "Epoch 3: val_loss improved from 0.05315 to 0.04637, saving model to best-mnist-cnn-v1.h5\n",
            "240/240 [==============================] - 5s 21ms/step - loss: 0.0172 - accuracy: 0.9947 - val_loss: 0.0464 - val_accuracy: 0.9869\n",
            "Epoch 4/100\n",
            "238/240 [============================>.] - ETA: 0s - loss: 0.0103 - accuracy: 0.9967\n",
            "Epoch 4: val_loss did not improve from 0.04637\n",
            "240/240 [==============================] - 5s 21ms/step - loss: 0.0103 - accuracy: 0.9967 - val_loss: 0.0503 - val_accuracy: 0.9867\n",
            "Epoch 5/100\n",
            "238/240 [============================>.] - ETA: 0s - loss: 0.0073 - accuracy: 0.9975\n",
            "Epoch 5: val_loss did not improve from 0.04637\n",
            "240/240 [==============================] - 5s 21ms/step - loss: 0.0073 - accuracy: 0.9975 - val_loss: 0.0508 - val_accuracy: 0.9877\n",
            "Epoch 6/100\n",
            "238/240 [============================>.] - ETA: 0s - loss: 0.0059 - accuracy: 0.9982\n",
            "Epoch 6: val_loss did not improve from 0.04637\n",
            "240/240 [==============================] - 5s 20ms/step - loss: 0.0059 - accuracy: 0.9982 - val_loss: 0.0505 - val_accuracy: 0.9872\n",
            "Epoch 7/100\n",
            "238/240 [============================>.] - ETA: 0s - loss: 0.0036 - accuracy: 0.9988\n",
            "Epoch 7: val_loss did not improve from 0.04637\n",
            "240/240 [==============================] - 5s 21ms/step - loss: 0.0036 - accuracy: 0.9989 - val_loss: 0.0492 - val_accuracy: 0.9887\n",
            "Epoch 8/100\n",
            "238/240 [============================>.] - ETA: 0s - loss: 0.0070 - accuracy: 0.9976\n",
            "Epoch 8: val_loss improved from 0.04637 to 0.04620, saving model to best-mnist-cnn-v1.h5\n",
            "240/240 [==============================] - 5s 22ms/step - loss: 0.0070 - accuracy: 0.9976 - val_loss: 0.0462 - val_accuracy: 0.9886\n",
            "Epoch 9/100\n",
            "238/240 [============================>.] - ETA: 0s - loss: 0.0038 - accuracy: 0.9989\n",
            "Epoch 9: val_loss did not improve from 0.04620\n",
            "240/240 [==============================] - 5s 21ms/step - loss: 0.0038 - accuracy: 0.9989 - val_loss: 0.0500 - val_accuracy: 0.9893\n",
            "Epoch 10/100\n",
            "238/240 [============================>.] - ETA: 0s - loss: 0.0014 - accuracy: 0.9996\n",
            "Epoch 10: val_loss did not improve from 0.04620\n",
            "240/240 [==============================] - 5s 20ms/step - loss: 0.0014 - accuracy: 0.9996 - val_loss: 0.0578 - val_accuracy: 0.9887\n",
            "Epoch 11/100\n",
            "238/240 [============================>.] - ETA: 0s - loss: 0.0045 - accuracy: 0.9986\n",
            "Epoch 11: val_loss did not improve from 0.04620\n",
            "240/240 [==============================] - 5s 21ms/step - loss: 0.0046 - accuracy: 0.9985 - val_loss: 0.0552 - val_accuracy: 0.9857\n",
            "Epoch 12/100\n",
            "238/240 [============================>.] - ETA: 0s - loss: 0.0045 - accuracy: 0.9984\n",
            "Epoch 12: val_loss did not improve from 0.04620\n",
            "240/240 [==============================] - 5s 21ms/step - loss: 0.0045 - accuracy: 0.9984 - val_loss: 0.0589 - val_accuracy: 0.9878\n",
            "Epoch 13/100\n",
            "238/240 [============================>.] - ETA: 0s - loss: 0.0036 - accuracy: 0.9986\n",
            "Epoch 13: val_loss did not improve from 0.04620\n",
            "240/240 [==============================] - 5s 20ms/step - loss: 0.0036 - accuracy: 0.9986 - val_loss: 0.0638 - val_accuracy: 0.9883\n",
            "Epoch 14/100\n",
            "238/240 [============================>.] - ETA: 0s - loss: 0.0013 - accuracy: 0.9995\n",
            "Epoch 14: val_loss did not improve from 0.04620\n",
            "240/240 [==============================] - 5s 21ms/step - loss: 0.0013 - accuracy: 0.9995 - val_loss: 0.0628 - val_accuracy: 0.9882\n",
            "Epoch 15/100\n",
            "238/240 [============================>.] - ETA: 0s - loss: 0.0022 - accuracy: 0.9993\n",
            "Epoch 15: val_loss did not improve from 0.04620\n",
            "240/240 [==============================] - 5s 21ms/step - loss: 0.0022 - accuracy: 0.9993 - val_loss: 0.0564 - val_accuracy: 0.9905\n",
            "Epoch 16/100\n",
            "238/240 [============================>.] - ETA: 0s - loss: 0.0019 - accuracy: 0.9995\n",
            "Epoch 16: val_loss did not improve from 0.04620\n",
            "240/240 [==============================] - 5s 20ms/step - loss: 0.0018 - accuracy: 0.9995 - val_loss: 0.0542 - val_accuracy: 0.9900\n",
            "Epoch 17/100\n",
            "238/240 [============================>.] - ETA: 0s - loss: 0.0018 - accuracy: 0.9994\n",
            "Epoch 17: val_loss did not improve from 0.04620\n",
            "240/240 [==============================] - 5s 21ms/step - loss: 0.0018 - accuracy: 0.9994 - val_loss: 0.0690 - val_accuracy: 0.9871\n",
            "Epoch 18/100\n",
            "238/240 [============================>.] - ETA: 0s - loss: 0.0048 - accuracy: 0.9986\n",
            "Epoch 18: val_loss did not improve from 0.04620\n",
            "240/240 [==============================] - 5s 20ms/step - loss: 0.0048 - accuracy: 0.9986 - val_loss: 0.0591 - val_accuracy: 0.9882\n"
          ]
        }
      ]
    },
    {
      "cell_type": "code",
      "source": [
        "best_model = load_model(model_path)\n",
        "best_model.evaluate(X_test, Y_test)"
      ],
      "metadata": {
        "colab": {
          "base_uri": "https://localhost:8080/"
        },
        "id": "uO3M8JfRl8d3",
        "outputId": "c53ea586-906e-435e-8afd-86b4d84254f2"
      },
      "execution_count": 11,
      "outputs": [
        {
          "output_type": "stream",
          "name": "stdout",
          "text": [
            "313/313 [==============================] - 1s 4ms/step - loss: 0.0486 - accuracy: 0.9857\n"
          ]
        },
        {
          "output_type": "execute_result",
          "data": {
            "text/plain": [
              "[0.04862929508090019, 0.9857000112533569]"
            ]
          },
          "metadata": {},
          "execution_count": 11
        }
      ]
    },
    {
      "cell_type": "markdown",
      "source": [
        "- 학습과정 시각화"
      ],
      "metadata": {
        "id": "BbddZjZAnZ0b"
      }
    },
    {
      "cell_type": "code",
      "source": [
        "y_acc = hist.history['accuracy']\n",
        "y_vloss = hist.history['val_loss']\n",
        "xs = np.arange(1, len(y_acc)+1)"
      ],
      "metadata": {
        "id": "7LBx8lI8nPik"
      },
      "execution_count": 12,
      "outputs": []
    },
    {
      "cell_type": "code",
      "source": [
        "plt.figure(figsize=(12,8))\n",
        "plt.plot(xs, y_acc, label='train accuracy')\n",
        "plt.plot(xs, y_vloss, label='validation loss')\n",
        "plt.legend(), plt.grid()\n",
        "plt.xlabel('Epoch')\n",
        "plt.title('MNIST CNN model v1')\n",
        "plt.show()"
      ],
      "metadata": {
        "colab": {
          "base_uri": "https://localhost:8080/",
          "height": 513
        },
        "id": "HNfveZounb7J",
        "outputId": "ea7c6e7d-2ff8-4f48-95a3-cfdf126850c1"
      },
      "execution_count": 13,
      "outputs": [
        {
          "output_type": "display_data",
          "data": {
            "text/plain": [
              "<Figure size 864x576 with 1 Axes>"
            ],
            "image/png": "[encoded data removed]"
          },
          "metadata": {
            "needs_background": "light"
          }
        }
      ]
    }
  ]
}