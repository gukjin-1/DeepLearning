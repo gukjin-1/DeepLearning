{
  "nbformat": 4,
  "nbformat_minor": 0,
  "metadata": {
    "colab": {
      "name": "03_MNIST_v3",
      "provenance": [],
      "collapsed_sections": []
    },
    "kernelspec": {
      "name": "python3",
      "display_name": "Python 3"
    },
    "language_info": {
      "name": "python"
    },
    "accelerator": "GPU"
  },
  "cells": [
    {
      "cell_type": "markdown",
      "source": [
        "# MNIST 소글씨 - CNN v3\n",
        "- 2 x Conv2D layers\n",
        "- 1 MaxPooling2D layer\n",
        "- 1 Dropout(0.25) layer\n",
        "- 1 FCN layers\n",
        "- 1 Dropout(0.5) layer\n",
        "- 1 Output layers"
      ],
      "metadata": {
        "id": "Frod5-jUd6Rw"
      }
    },
    {
      "cell_type": "code",
      "execution_count": 1,
      "metadata": {
        "id": "BXIGbUFmd2VB"
      },
      "outputs": [],
      "source": [
        "import numpy as np\n",
        "import matplotlib.pyplot as plt\n",
        "import tensorflow as tf\n",
        "seed = 2022\n",
        "np.random.seed(seed)\n",
        "tf.random.set_seed(seed)"
      ]
    },
    {
      "cell_type": "markdown",
      "source": [
        "- 데이터 전처리"
      ],
      "metadata": {
        "id": "yn6DtS2NfMam"
      }
    },
    {
      "cell_type": "code",
      "source": [
        "from tensorflow.keras.datasets import mnist\n",
        "(X_train, y_train), (X_test, y_test) = mnist.load_data()\n",
        "X_train.shape, y_train.shape, X_test.shape, y_test.shape"
      ],
      "metadata": {
        "colab": {
          "base_uri": "https://localhost:8080/"
        },
        "id": "M5a4NzVEeLBS",
        "outputId": "50799061-8e82-4631-cb2e-ebaf960fdfb2"
      },
      "execution_count": 2,
      "outputs": [
        {
          "output_type": "stream",
          "name": "stdout",
          "text": [
            "Downloading data from https://storage.googleapis.com/tensorflow/tf-keras-datasets/mnist.npz\n",
            "11493376/11490434 [==============================] - 0s 0us/step\n",
            "11501568/11490434 [==============================] - 0s 0us/step\n"
          ]
        },
        {
          "output_type": "execute_result",
          "data": {
            "text/plain": [
              "((60000, 28, 28), (60000,), (10000, 28, 28), (10000,))"
            ]
          },
          "metadata": {},
          "execution_count": 2
        }
      ]
    },
    {
      "cell_type": "code",
      "source": [
        "# X_train, X_test 정규화(0 ~ 1), # 이미지 차원 변경: 2차원 --> 3차원\n",
        "X_train = X_train.reshape(-1, 28, 28, 1) / 255.\n",
        "X_test = X_test.reshape(-1, 28, 28, 1) / 255.\n",
        "X_train.shape, X_test.shape"
      ],
      "metadata": {
        "colab": {
          "base_uri": "https://localhost:8080/"
        },
        "id": "h35u717FeQkj",
        "outputId": "9598fe57-25c9-4806-d570-99b50e260cef"
      },
      "execution_count": 3,
      "outputs": [
        {
          "output_type": "execute_result",
          "data": {
            "text/plain": [
              "((60000, 28, 28, 1), (10000, 28, 28, 1))"
            ]
          },
          "metadata": {},
          "execution_count": 3
        }
      ]
    },
    {
      "cell_type": "code",
      "source": [
        "# One hot encoding\n",
        "from tensorflow.keras.utils import to_categorical\n",
        "Y_train = to_categorical(y_train)\n",
        "Y_test = to_categorical(y_test)\n",
        "Y_train.shape, Y_test.shape"
      ],
      "metadata": {
        "colab": {
          "base_uri": "https://localhost:8080/"
        },
        "id": "ItFM-Qq2eze6",
        "outputId": "cf010ef4-d730-47b1-c44d-94c94de65692"
      },
      "execution_count": 4,
      "outputs": [
        {
          "output_type": "execute_result",
          "data": {
            "text/plain": [
              "((60000, 10), (10000, 10))"
            ]
          },
          "metadata": {},
          "execution_count": 4
        }
      ]
    },
    {
      "cell_type": "markdown",
      "source": [
        "- 모델 정의/설정/학습/평가"
      ],
      "metadata": {
        "id": "HPmKk7QLfGP2"
      }
    },
    {
      "cell_type": "code",
      "source": [
        "from tensorflow.keras.models import Sequential, load_model\n",
        "from tensorflow.keras.layers import Dense, Conv2D, Flatten, MaxPooling2D, Dropout\n",
        "from tensorflow.keras.callbacks import ModelCheckpoint, EarlyStopping"
      ],
      "metadata": {
        "id": "IWe8osxifBuE"
      },
      "execution_count": 5,
      "outputs": []
    },
    {
      "cell_type": "code",
      "source": [
        "model = Sequential([\n",
        "    Conv2D(32, kernel_size= (3,3), input_shape=(28,28,1), activation='relu'),\n",
        "    Conv2D(64, kernel_size= (3,3), activation = 'relu'),\n",
        "    MaxPooling2D(),\n",
        "    Dropout(0.25),\n",
        "    Flatten(), # 1차원으로 싹 풀어줌\n",
        "    Dense(512, activation='relu'),\n",
        "    Dropout(0.5),\n",
        "    Dense(10, activation = 'softmax')\n",
        "])\n",
        "model.summary()"
      ],
      "metadata": {
        "colab": {
          "base_uri": "https://localhost:8080/"
        },
        "id": "Eqp98VlKfshP",
        "outputId": "4cbfd9dc-6b32-44f4-acd7-6f9d395fa8ca"
      },
      "execution_count": 6,
      "outputs": [
        {
          "output_type": "stream",
          "name": "stdout",
          "text": [
            "Model: \"sequential\"\n",
            "_________________________________________________________________\n",
            " Layer (type)                Output Shape              Param #   \n",
            "=================================================================\n",
            " conv2d (Conv2D)             (None, 26, 26, 32)        320       \n",
            "                                                                 \n",
            " conv2d_1 (Conv2D)           (None, 24, 24, 64)        18496     \n",
            "                                                                 \n",
            " max_pooling2d (MaxPooling2D  (None, 12, 12, 64)       0         \n",
            " )                                                               \n",
            "                                                                 \n",
            " dropout (Dropout)           (None, 12, 12, 64)        0         \n",
            "                                                                 \n",
            " flatten (Flatten)           (None, 9216)              0         \n",
            "                                                                 \n",
            " dense (Dense)               (None, 512)               4719104   \n",
            "                                                                 \n",
            " dropout_1 (Dropout)         (None, 512)               0         \n",
            "                                                                 \n",
            " dense_1 (Dense)             (None, 10)                5130      \n",
            "                                                                 \n",
            "=================================================================\n",
            "Total params: 4,743,050\n",
            "Trainable params: 4,743,050\n",
            "Non-trainable params: 0\n",
            "_________________________________________________________________\n"
          ]
        }
      ]
    },
    {
      "cell_type": "code",
      "source": [
        "model.compile('adam', 'categorical_crossentropy', ['accuracy'])"
      ],
      "metadata": {
        "id": "x0m_vU57hmii"
      },
      "execution_count": 7,
      "outputs": []
    },
    {
      "cell_type": "code",
      "source": [
        "model_path = 'best-mnist-cnn-v3.h5'\n",
        "mc = ModelCheckpoint(model_path, save_best_only = True, verbose = 1)\n",
        "es = EarlyStopping(patience=10)"
      ],
      "metadata": {
        "id": "4n09FSC0i6-8"
      },
      "execution_count": 8,
      "outputs": []
    },
    {
      "cell_type": "code",
      "source": [
        "hist = model.fit(\n",
        "    X_train, Y_train, validation_split=0.2, epochs=100, batch_size = 200,\n",
        "    callbacks=[mc,es]\n",
        ")"
      ],
      "metadata": {
        "colab": {
          "base_uri": "https://localhost:8080/"
        },
        "id": "L0bmwCv-lrxA",
        "outputId": "77cc4601-4ad6-48c4-a036-315342c43b7b"
      },
      "execution_count": 9,
      "outputs": [
        {
          "output_type": "stream",
          "name": "stdout",
          "text": [
            "Epoch 1/100\n",
            "239/240 [============================>.] - ETA: 0s - loss: 0.2209 - accuracy: 0.9318\n",
            "Epoch 1: val_loss improved from inf to 0.05688, saving model to best-mnist-cnn-v3.h5\n",
            "240/240 [==============================] - 14s 15ms/step - loss: 0.2202 - accuracy: 0.9320 - val_loss: 0.0569 - val_accuracy: 0.9835\n",
            "Epoch 2/100\n",
            "237/240 [============================>.] - ETA: 0s - loss: 0.0627 - accuracy: 0.9809\n",
            "Epoch 2: val_loss improved from 0.05688 to 0.05181, saving model to best-mnist-cnn-v3.h5\n",
            "240/240 [==============================] - 3s 14ms/step - loss: 0.0625 - accuracy: 0.9810 - val_loss: 0.0518 - val_accuracy: 0.9856\n",
            "Epoch 3/100\n",
            "238/240 [============================>.] - ETA: 0s - loss: 0.0430 - accuracy: 0.9865\n",
            "Epoch 3: val_loss improved from 0.05181 to 0.04103, saving model to best-mnist-cnn-v3.h5\n",
            "240/240 [==============================] - 3s 14ms/step - loss: 0.0430 - accuracy: 0.9865 - val_loss: 0.0410 - val_accuracy: 0.9886\n",
            "Epoch 4/100\n",
            "239/240 [============================>.] - ETA: 0s - loss: 0.0343 - accuracy: 0.9894\n",
            "Epoch 4: val_loss improved from 0.04103 to 0.03654, saving model to best-mnist-cnn-v3.h5\n",
            "240/240 [==============================] - 3s 14ms/step - loss: 0.0343 - accuracy: 0.9894 - val_loss: 0.0365 - val_accuracy: 0.9900\n",
            "Epoch 5/100\n",
            "240/240 [==============================] - ETA: 0s - loss: 0.0274 - accuracy: 0.9911\n",
            "Epoch 5: val_loss did not improve from 0.03654\n",
            "240/240 [==============================] - 3s 14ms/step - loss: 0.0274 - accuracy: 0.9911 - val_loss: 0.0381 - val_accuracy: 0.9893\n",
            "Epoch 6/100\n",
            "237/240 [============================>.] - ETA: 0s - loss: 0.0232 - accuracy: 0.9925\n",
            "Epoch 6: val_loss improved from 0.03654 to 0.03620, saving model to best-mnist-cnn-v3.h5\n",
            "240/240 [==============================] - 3s 15ms/step - loss: 0.0233 - accuracy: 0.9925 - val_loss: 0.0362 - val_accuracy: 0.9891\n",
            "Epoch 7/100\n",
            "238/240 [============================>.] - ETA: 0s - loss: 0.0189 - accuracy: 0.9937\n",
            "Epoch 7: val_loss improved from 0.03620 to 0.03299, saving model to best-mnist-cnn-v3.h5\n",
            "240/240 [==============================] - 3s 14ms/step - loss: 0.0187 - accuracy: 0.9938 - val_loss: 0.0330 - val_accuracy: 0.9908\n",
            "Epoch 8/100\n",
            "237/240 [============================>.] - ETA: 0s - loss: 0.0175 - accuracy: 0.9943\n",
            "Epoch 8: val_loss did not improve from 0.03299\n",
            "240/240 [==============================] - 3s 14ms/step - loss: 0.0175 - accuracy: 0.9943 - val_loss: 0.0343 - val_accuracy: 0.9906\n",
            "Epoch 9/100\n",
            "239/240 [============================>.] - ETA: 0s - loss: 0.0153 - accuracy: 0.9947\n",
            "Epoch 9: val_loss did not improve from 0.03299\n",
            "240/240 [==============================] - 3s 14ms/step - loss: 0.0153 - accuracy: 0.9947 - val_loss: 0.0339 - val_accuracy: 0.9903\n",
            "Epoch 10/100\n",
            "240/240 [==============================] - ETA: 0s - loss: 0.0137 - accuracy: 0.9950\n",
            "Epoch 10: val_loss did not improve from 0.03299\n",
            "240/240 [==============================] - 3s 14ms/step - loss: 0.0137 - accuracy: 0.9950 - val_loss: 0.0360 - val_accuracy: 0.9912\n",
            "Epoch 11/100\n",
            "240/240 [==============================] - ETA: 0s - loss: 0.0124 - accuracy: 0.9958\n",
            "Epoch 11: val_loss did not improve from 0.03299\n",
            "240/240 [==============================] - 3s 14ms/step - loss: 0.0124 - accuracy: 0.9958 - val_loss: 0.0367 - val_accuracy: 0.9898\n",
            "Epoch 12/100\n",
            "237/240 [============================>.] - ETA: 0s - loss: 0.0105 - accuracy: 0.9962\n",
            "Epoch 12: val_loss did not improve from 0.03299\n",
            "240/240 [==============================] - 3s 14ms/step - loss: 0.0105 - accuracy: 0.9962 - val_loss: 0.0389 - val_accuracy: 0.9906\n",
            "Epoch 13/100\n",
            "237/240 [============================>.] - ETA: 0s - loss: 0.0111 - accuracy: 0.9961\n",
            "Epoch 13: val_loss did not improve from 0.03299\n",
            "240/240 [==============================] - 3s 14ms/step - loss: 0.0111 - accuracy: 0.9961 - val_loss: 0.0431 - val_accuracy: 0.9902\n",
            "Epoch 14/100\n",
            "240/240 [==============================] - ETA: 0s - loss: 0.0108 - accuracy: 0.9963\n",
            "Epoch 14: val_loss did not improve from 0.03299\n",
            "240/240 [==============================] - 3s 14ms/step - loss: 0.0108 - accuracy: 0.9963 - val_loss: 0.0451 - val_accuracy: 0.9897\n",
            "Epoch 15/100\n",
            "237/240 [============================>.] - ETA: 0s - loss: 0.0090 - accuracy: 0.9971\n",
            "Epoch 15: val_loss did not improve from 0.03299\n",
            "240/240 [==============================] - 3s 14ms/step - loss: 0.0089 - accuracy: 0.9971 - val_loss: 0.0399 - val_accuracy: 0.9912\n",
            "Epoch 16/100\n",
            "238/240 [============================>.] - ETA: 0s - loss: 0.0081 - accuracy: 0.9972\n",
            "Epoch 16: val_loss did not improve from 0.03299\n",
            "240/240 [==============================] - 3s 14ms/step - loss: 0.0081 - accuracy: 0.9972 - val_loss: 0.0404 - val_accuracy: 0.9905\n",
            "Epoch 17/100\n",
            "239/240 [============================>.] - ETA: 0s - loss: 0.0081 - accuracy: 0.9972\n",
            "Epoch 17: val_loss did not improve from 0.03299\n",
            "240/240 [==============================] - 3s 14ms/step - loss: 0.0081 - accuracy: 0.9973 - val_loss: 0.0355 - val_accuracy: 0.9923\n"
          ]
        }
      ]
    },
    {
      "cell_type": "code",
      "source": [
        "best_model = load_model(model_path)\n",
        "best_model.evaluate(X_test, Y_test)"
      ],
      "metadata": {
        "colab": {
          "base_uri": "https://localhost:8080/"
        },
        "id": "uO3M8JfRl8d3",
        "outputId": "c26483e8-eec3-424f-af7b-1a4cf2e27e69"
      },
      "execution_count": 10,
      "outputs": [
        {
          "output_type": "stream",
          "name": "stdout",
          "text": [
            "313/313 [==============================] - 1s 3ms/step - loss: 0.0264 - accuracy: 0.9921\n"
          ]
        },
        {
          "output_type": "execute_result",
          "data": {
            "text/plain": [
              "[0.02643623948097229, 0.9921000003814697]"
            ]
          },
          "metadata": {},
          "execution_count": 10
        }
      ]
    },
    {
      "cell_type": "markdown",
      "source": [
        "- 학습과정 시각화"
      ],
      "metadata": {
        "id": "BbddZjZAnZ0b"
      }
    },
    {
      "cell_type": "code",
      "source": [
        "y_acc = hist.history['accuracy']\n",
        "y_vloss = hist.history['val_loss']\n",
        "xs = np.arange(1, len(y_acc)+1)"
      ],
      "metadata": {
        "id": "7LBx8lI8nPik"
      },
      "execution_count": 11,
      "outputs": []
    },
    {
      "cell_type": "code",
      "source": [
        "plt.figure(figsize=(12,8))\n",
        "plt.plot(xs, y_acc, label='train accuracy')\n",
        "plt.plot(xs, y_vloss, label='validation loss')\n",
        "plt.legend(), plt.grid()\n",
        "plt.xlabel('Epoch')\n",
        "plt.title('MNIST CNN model v3')\n",
        "plt.show()"
      ],
      "metadata": {
        "colab": {
          "base_uri": "https://localhost:8080/",
          "height": 513
        },
        "id": "HNfveZounb7J",
        "outputId": "e74b29f0-146f-4b4f-9d76-38c25c45b747"
      },
      "execution_count": 13,
      "outputs": [
        {
          "output_type": "display_data",
          "data": {
            "text/plain": [
              "<Figure size 864x576 with 1 Axes>"
            ],
            "image/png": "[encoded data removed]"
          },
          "metadata": {
            "needs_background": "light"
          }
        }
      ]
    }
  ]
}