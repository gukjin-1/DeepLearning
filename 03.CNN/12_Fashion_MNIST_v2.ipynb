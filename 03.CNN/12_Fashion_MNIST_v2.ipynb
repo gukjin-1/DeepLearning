{
  "nbformat": 4,
  "nbformat_minor": 0,
  "metadata": {
    "colab": {
      "name": "12_Fashion_MNIST_v2",
      "provenance": [],
      "collapsed_sections": []
    },
    "kernelspec": {
      "name": "python3",
      "display_name": "Python 3"
    },
    "language_info": {
      "name": "python"
    },
    "accelerator": "GPU"
  },
  "cells": [
    {
      "cell_type": "markdown",
      "source": [
        "# Fashion_MNIST_v2\n",
        "- 2 x Conv2D layers with padding\n",
        "- 1 MaxPooling2D layer\n",
        "- 1 Dropout(0.25) layer\n",
        "- 1 FCN layers\n",
        "- 1 Dropout(0.5) layer\n",
        "- 1 Output layers"
      ],
      "metadata": {
        "id": "Frod5-jUd6Rw"
      }
    },
    {
      "cell_type": "code",
      "execution_count": 1,
      "metadata": {
        "id": "BXIGbUFmd2VB"
      },
      "outputs": [],
      "source": [
        "import numpy as np\n",
        "import matplotlib.pyplot as plt\n",
        "import tensorflow as tf\n",
        "seed = 2022\n",
        "np.random.seed(seed)\n",
        "tf.random.set_seed(seed)"
      ]
    },
    {
      "cell_type": "markdown",
      "source": [
        "- 데이터 전처리"
      ],
      "metadata": {
        "id": "yn6DtS2NfMam"
      }
    },
    {
      "cell_type": "code",
      "source": [
        "from tensorflow.keras.datasets import fashion_mnist\n",
        "(X_train, y_train), (X_test, y_test) = fashion_mnist.load_data()\n",
        "X_train.shape, y_train.shape, X_test.shape, y_test.shape"
      ],
      "metadata": {
        "colab": {
          "base_uri": "https://localhost:8080/"
        },
        "id": "M5a4NzVEeLBS",
        "outputId": "f9a8e8f0-11bc-4ccc-c655-a5aaf960e08f"
      },
      "execution_count": 2,
      "outputs": [
        {
          "output_type": "stream",
          "name": "stdout",
          "text": [
            "Downloading data from https://storage.googleapis.com/tensorflow/tf-keras-datasets/train-labels-idx1-ubyte.gz\n",
            "32768/29515 [=================================] - 0s 0us/step\n",
            "40960/29515 [=========================================] - 0s 0us/step\n",
            "Downloading data from https://storage.googleapis.com/tensorflow/tf-keras-datasets/train-images-idx3-ubyte.gz\n",
            "26427392/26421880 [==============================] - 0s 0us/step\n",
            "26435584/26421880 [==============================] - 0s 0us/step\n",
            "Downloading data from https://storage.googleapis.com/tensorflow/tf-keras-datasets/t10k-labels-idx1-ubyte.gz\n",
            "16384/5148 [===============================================================================================] - 0s 0us/step\n",
            "Downloading data from https://storage.googleapis.com/tensorflow/tf-keras-datasets/t10k-images-idx3-ubyte.gz\n",
            "4423680/4422102 [==============================] - 0s 0us/step\n",
            "4431872/4422102 [==============================] - 0s 0us/step\n"
          ]
        },
        {
          "output_type": "execute_result",
          "data": {
            "text/plain": [
              "((60000, 28, 28), (60000,), (10000, 28, 28), (10000,))"
            ]
          },
          "metadata": {},
          "execution_count": 2
        }
      ]
    },
    {
      "cell_type": "code",
      "source": [
        "# X_train, X_test 정규화(0 ~ 1), # 이미지 차원 변경: 2차원 --> 3차원\n",
        "X_train = X_train.reshape(-1, 28, 28, 1) / 255.\n",
        "X_test = X_test.reshape(-1, 28, 28, 1) / 255.\n",
        "X_train.shape, X_test.shape"
      ],
      "metadata": {
        "colab": {
          "base_uri": "https://localhost:8080/"
        },
        "id": "h35u717FeQkj",
        "outputId": "98674b35-2de6-41f0-d524-889bc0d8165c"
      },
      "execution_count": 3,
      "outputs": [
        {
          "output_type": "execute_result",
          "data": {
            "text/plain": [
              "((60000, 28, 28, 1), (10000, 28, 28, 1))"
            ]
          },
          "metadata": {},
          "execution_count": 3
        }
      ]
    },
    {
      "cell_type": "code",
      "source": [
        "# One hot encoding\n",
        "from tensorflow.keras.utils import to_categorical\n",
        "Y_train = to_categorical(y_train)\n",
        "Y_test = to_categorical(y_test)\n",
        "Y_train.shape, Y_test.shape"
      ],
      "metadata": {
        "colab": {
          "base_uri": "https://localhost:8080/"
        },
        "id": "ItFM-Qq2eze6",
        "outputId": "09eb6c05-676f-48d2-bae2-4c199358a184"
      },
      "execution_count": 4,
      "outputs": [
        {
          "output_type": "execute_result",
          "data": {
            "text/plain": [
              "((60000, 10), (10000, 10))"
            ]
          },
          "metadata": {},
          "execution_count": 4
        }
      ]
    },
    {
      "cell_type": "markdown",
      "source": [
        "- 모델 정의/설정/학습/평가"
      ],
      "metadata": {
        "id": "HPmKk7QLfGP2"
      }
    },
    {
      "cell_type": "code",
      "source": [
        "from tensorflow.keras.models import Sequential, load_model\n",
        "from tensorflow.keras.layers import Dense, Conv2D, Flatten, MaxPooling2D, Dropout\n",
        "from tensorflow.keras.callbacks import ModelCheckpoint, EarlyStopping"
      ],
      "metadata": {
        "id": "IWe8osxifBuE"
      },
      "execution_count": 5,
      "outputs": []
    },
    {
      "cell_type": "code",
      "source": [
        "model = Sequential([\n",
        "    Conv2D(32, kernel_size= (3,3), padding = 'same', input_shape=(28,28,1), activation='relu'),\n",
        "    Conv2D(64, kernel_size= (3,3),padding='same', activation = 'relu'),\n",
        "    MaxPooling2D(),\n",
        "    Dropout(0.25),\n",
        "    Flatten(), # 1차원으로 싹 풀어줌\n",
        "    Dense(512, activation='relu'),\n",
        "    Dropout(0.5),\n",
        "    Dense(10, activation = 'softmax')\n",
        "])\n",
        "model.summary()"
      ],
      "metadata": {
        "colab": {
          "base_uri": "https://localhost:8080/"
        },
        "id": "Eqp98VlKfshP",
        "outputId": "3177d589-ff32-4764-d200-541bbfbe9e4c"
      },
      "execution_count": 6,
      "outputs": [
        {
          "output_type": "stream",
          "name": "stdout",
          "text": [
            "Model: \"sequential\"\n",
            "_________________________________________________________________\n",
            " Layer (type)                Output Shape              Param #   \n",
            "=================================================================\n",
            " conv2d (Conv2D)             (None, 28, 28, 32)        320       \n",
            "                                                                 \n",
            " conv2d_1 (Conv2D)           (None, 28, 28, 64)        18496     \n",
            "                                                                 \n",
            " max_pooling2d (MaxPooling2D  (None, 14, 14, 64)       0         \n",
            " )                                                               \n",
            "                                                                 \n",
            " dropout (Dropout)           (None, 14, 14, 64)        0         \n",
            "                                                                 \n",
            " flatten (Flatten)           (None, 12544)             0         \n",
            "                                                                 \n",
            " dense (Dense)               (None, 512)               6423040   \n",
            "                                                                 \n",
            " dropout_1 (Dropout)         (None, 512)               0         \n",
            "                                                                 \n",
            " dense_1 (Dense)             (None, 10)                5130      \n",
            "                                                                 \n",
            "=================================================================\n",
            "Total params: 6,446,986\n",
            "Trainable params: 6,446,986\n",
            "Non-trainable params: 0\n",
            "_________________________________________________________________\n"
          ]
        }
      ]
    },
    {
      "cell_type": "code",
      "source": [
        "model.compile('adam', 'categorical_crossentropy', ['accuracy'])"
      ],
      "metadata": {
        "id": "x0m_vU57hmii"
      },
      "execution_count": 7,
      "outputs": []
    },
    {
      "cell_type": "code",
      "source": [
        "model_path = 'best-fashion-mnist-cnn-v2.h5'\n",
        "mc = ModelCheckpoint(model_path, save_best_only = True, verbose = 1)\n",
        "es = EarlyStopping(patience=10)"
      ],
      "metadata": {
        "id": "4n09FSC0i6-8"
      },
      "execution_count": 8,
      "outputs": []
    },
    {
      "cell_type": "code",
      "source": [
        "hist = model.fit(\n",
        "    X_train, Y_train, validation_split=0.2, epochs=100, batch_size = 200,\n",
        "    callbacks=[mc,es]\n",
        ")"
      ],
      "metadata": {
        "colab": {
          "base_uri": "https://localhost:8080/"
        },
        "id": "L0bmwCv-lrxA",
        "outputId": "d088475d-a13c-4a4b-84b5-d30b67713bcf"
      },
      "execution_count": 9,
      "outputs": [
        {
          "output_type": "stream",
          "name": "stdout",
          "text": [
            "Epoch 1/100\n",
            "240/240 [==============================] - ETA: 0s - loss: 0.4793 - accuracy: 0.8291\n",
            "Epoch 1: val_loss improved from inf to 0.30816, saving model to best-fashion-mnist-cnn-v2.h5\n",
            "240/240 [==============================] - 15s 18ms/step - loss: 0.4793 - accuracy: 0.8291 - val_loss: 0.3082 - val_accuracy: 0.8875\n",
            "Epoch 2/100\n",
            "237/240 [============================>.] - ETA: 0s - loss: 0.3018 - accuracy: 0.8905\n",
            "Epoch 2: val_loss improved from 0.30816 to 0.26491, saving model to best-fashion-mnist-cnn-v2.h5\n",
            "240/240 [==============================] - 4s 17ms/step - loss: 0.3017 - accuracy: 0.8904 - val_loss: 0.2649 - val_accuracy: 0.9051\n",
            "Epoch 3/100\n",
            "240/240 [==============================] - ETA: 0s - loss: 0.2471 - accuracy: 0.9107\n",
            "Epoch 3: val_loss improved from 0.26491 to 0.23193, saving model to best-fashion-mnist-cnn-v2.h5\n",
            "240/240 [==============================] - 4s 17ms/step - loss: 0.2471 - accuracy: 0.9107 - val_loss: 0.2319 - val_accuracy: 0.9124\n",
            "Epoch 4/100\n",
            "237/240 [============================>.] - ETA: 0s - loss: 0.2114 - accuracy: 0.9229\n",
            "Epoch 4: val_loss improved from 0.23193 to 0.22042, saving model to best-fashion-mnist-cnn-v2.h5\n",
            "240/240 [==============================] - 4s 18ms/step - loss: 0.2115 - accuracy: 0.9228 - val_loss: 0.2204 - val_accuracy: 0.9192\n",
            "Epoch 5/100\n",
            "238/240 [============================>.] - ETA: 0s - loss: 0.1855 - accuracy: 0.9320\n",
            "Epoch 5: val_loss improved from 0.22042 to 0.21454, saving model to best-fashion-mnist-cnn-v2.h5\n",
            "240/240 [==============================] - 4s 18ms/step - loss: 0.1856 - accuracy: 0.9320 - val_loss: 0.2145 - val_accuracy: 0.9202\n",
            "Epoch 6/100\n",
            "237/240 [============================>.] - ETA: 0s - loss: 0.1626 - accuracy: 0.9404\n",
            "Epoch 6: val_loss improved from 0.21454 to 0.20143, saving model to best-fashion-mnist-cnn-v2.h5\n",
            "240/240 [==============================] - 4s 17ms/step - loss: 0.1626 - accuracy: 0.9404 - val_loss: 0.2014 - val_accuracy: 0.9279\n",
            "Epoch 7/100\n",
            "237/240 [============================>.] - ETA: 0s - loss: 0.1431 - accuracy: 0.9468\n",
            "Epoch 7: val_loss improved from 0.20143 to 0.19870, saving model to best-fashion-mnist-cnn-v2.h5\n",
            "240/240 [==============================] - 4s 17ms/step - loss: 0.1434 - accuracy: 0.9466 - val_loss: 0.1987 - val_accuracy: 0.9295\n",
            "Epoch 8/100\n",
            "240/240 [==============================] - ETA: 0s - loss: 0.1266 - accuracy: 0.9531\n",
            "Epoch 8: val_loss did not improve from 0.19870\n",
            "240/240 [==============================] - 4s 16ms/step - loss: 0.1266 - accuracy: 0.9531 - val_loss: 0.2042 - val_accuracy: 0.9292\n",
            "Epoch 9/100\n",
            "237/240 [============================>.] - ETA: 0s - loss: 0.1106 - accuracy: 0.9589\n",
            "Epoch 9: val_loss did not improve from 0.19870\n",
            "240/240 [==============================] - 4s 18ms/step - loss: 0.1110 - accuracy: 0.9588 - val_loss: 0.2137 - val_accuracy: 0.9274\n",
            "Epoch 10/100\n",
            "239/240 [============================>.] - ETA: 0s - loss: 0.0964 - accuracy: 0.9637\n",
            "Epoch 10: val_loss did not improve from 0.19870\n",
            "240/240 [==============================] - 4s 16ms/step - loss: 0.0964 - accuracy: 0.9637 - val_loss: 0.2449 - val_accuracy: 0.9213\n",
            "Epoch 11/100\n",
            "237/240 [============================>.] - ETA: 0s - loss: 0.0842 - accuracy: 0.9688\n",
            "Epoch 11: val_loss did not improve from 0.19870\n",
            "240/240 [==============================] - 4s 17ms/step - loss: 0.0844 - accuracy: 0.9688 - val_loss: 0.2195 - val_accuracy: 0.9305\n",
            "Epoch 12/100\n",
            "240/240 [==============================] - ETA: 0s - loss: 0.0774 - accuracy: 0.9722\n",
            "Epoch 12: val_loss did not improve from 0.19870\n",
            "240/240 [==============================] - 4s 18ms/step - loss: 0.0774 - accuracy: 0.9722 - val_loss: 0.2244 - val_accuracy: 0.9314\n",
            "Epoch 13/100\n",
            "239/240 [============================>.] - ETA: 0s - loss: 0.0661 - accuracy: 0.9756\n",
            "Epoch 13: val_loss did not improve from 0.19870\n",
            "240/240 [==============================] - 4s 18ms/step - loss: 0.0663 - accuracy: 0.9756 - val_loss: 0.2343 - val_accuracy: 0.9296\n",
            "Epoch 14/100\n",
            "239/240 [============================>.] - ETA: 0s - loss: 0.0621 - accuracy: 0.9765\n",
            "Epoch 14: val_loss did not improve from 0.19870\n",
            "240/240 [==============================] - 4s 17ms/step - loss: 0.0621 - accuracy: 0.9766 - val_loss: 0.2441 - val_accuracy: 0.9313\n",
            "Epoch 15/100\n",
            "239/240 [============================>.] - ETA: 0s - loss: 0.0557 - accuracy: 0.9800\n",
            "Epoch 15: val_loss did not improve from 0.19870\n",
            "240/240 [==============================] - 4s 18ms/step - loss: 0.0556 - accuracy: 0.9800 - val_loss: 0.2419 - val_accuracy: 0.9310\n",
            "Epoch 16/100\n",
            "240/240 [==============================] - ETA: 0s - loss: 0.0473 - accuracy: 0.9830\n",
            "Epoch 16: val_loss did not improve from 0.19870\n",
            "240/240 [==============================] - 4s 16ms/step - loss: 0.0473 - accuracy: 0.9830 - val_loss: 0.2596 - val_accuracy: 0.9307\n",
            "Epoch 17/100\n",
            "240/240 [==============================] - ETA: 0s - loss: 0.0443 - accuracy: 0.9839\n",
            "Epoch 17: val_loss did not improve from 0.19870\n",
            "240/240 [==============================] - 4s 18ms/step - loss: 0.0443 - accuracy: 0.9839 - val_loss: 0.2557 - val_accuracy: 0.9313\n"
          ]
        }
      ]
    },
    {
      "cell_type": "code",
      "source": [
        "best_model = load_model(model_path)\n",
        "best_model.evaluate(X_test, Y_test)"
      ],
      "metadata": {
        "colab": {
          "base_uri": "https://localhost:8080/"
        },
        "id": "uO3M8JfRl8d3",
        "outputId": "f44d94af-6f0b-43e8-c675-252eb1039452"
      },
      "execution_count": 12,
      "outputs": [
        {
          "output_type": "stream",
          "name": "stdout",
          "text": [
            "313/313 [==============================] - 1s 3ms/step - loss: 0.2160 - accuracy: 0.9241\n"
          ]
        },
        {
          "output_type": "execute_result",
          "data": {
            "text/plain": [
              "[0.2160012274980545, 0.9240999817848206]"
            ]
          },
          "metadata": {},
          "execution_count": 12
        }
      ]
    },
    {
      "cell_type": "markdown",
      "source": [
        "- 학습과정 시각화"
      ],
      "metadata": {
        "id": "BbddZjZAnZ0b"
      }
    },
    {
      "cell_type": "code",
      "source": [
        "y_acc = hist.history['accuracy']\n",
        "y_vloss = hist.history['val_loss']\n",
        "xs = np.arange(1, len(y_acc)+1)"
      ],
      "metadata": {
        "id": "7LBx8lI8nPik"
      },
      "execution_count": 10,
      "outputs": []
    },
    {
      "cell_type": "code",
      "source": [
        "plt.figure(figsize=(12,8))\n",
        "plt.plot(xs, y_acc, label='train accuracy')\n",
        "plt.plot(xs, y_vloss, label='validation loss')\n",
        "plt.legend(), plt.grid()\n",
        "plt.xlabel('Epoch')\n",
        "plt.title('Fashion MNIST CNN model v2')\n",
        "plt.show()"
      ],
      "metadata": {
        "colab": {
          "base_uri": "https://localhost:8080/",
          "height": 513
        },
        "id": "HNfveZounb7J",
        "outputId": "9353e93f-9262-4110-d211-c01ec3969008"
      },
      "execution_count": 13,
      "outputs": [
        {
          "output_type": "display_data",
          "data": {
            "text/plain": [
              "<Figure size 864x576 with 1 Axes>"
            ],
            "image/png": "[encoded data removed]"
          },
          "metadata": {
            "needs_background": "light"
          }
        }
      ]
    },
    {
      "cell_type": "code",
      "source": [
        ""
      ],
      "metadata": {
        "id": "ssB8gZ8C3Pjm"
      },
      "execution_count": null,
      "outputs": []
    }
  ]
}