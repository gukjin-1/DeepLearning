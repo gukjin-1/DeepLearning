{
  "nbformat": 4,
  "nbformat_minor": 0,
  "metadata": {
    "colab": {
      "name": "03_MLP.ipynb",
      "provenance": [],
      "collapsed_sections": []
    },
    "kernelspec": {
      "name": "python3",
      "display_name": "Python 3"
    },
    "language_info": {
      "name": "python"
    }
  },
  "cells": [
    {
      "cell_type": "markdown",
      "source": [
        "## Multi Layer Perceptron(MLP)"
      ],
      "metadata": {
        "id": "QqtUHtFi3uEI"
      }
    },
    {
      "cell_type": "code",
      "execution_count": null,
      "metadata": {
        "id": "NcrYT7373jJA"
      },
      "outputs": [],
      "source": [
        "import numpy as np"
      ]
    },
    {
      "cell_type": "markdown",
      "source": [
        "And Gate"
      ],
      "metadata": {
        "id": "gy00zw2h3yly"
      }
    },
    {
      "cell_type": "code",
      "source": [
        "def And_gate(x1,x2):\n",
        "  weight = np.array([1,1])\n",
        "  bias = -1\n",
        "  x = np.array([x1,x2])\n",
        "  sum = np.dot(weight,x) + bias\n",
        "  return 0 if sum <=0 else 1"
      ],
      "metadata": {
        "id": "Xz7ifMCZ40VD"
      },
      "execution_count": null,
      "outputs": []
    },
    {
      "cell_type": "code",
      "source": [
        "for x1, x2 in [(0,0),(0,1),(1,0),(1,1)]:\n",
        "  print(And_gate(x1,x2))"
      ],
      "metadata": {
        "colab": {
          "base_uri": "https://localhost:8080/"
        },
        "id": "DkRT6Upe5Kjm",
        "outputId": "266e4676-3330-4604-9e01-22663e093ff5"
      },
      "execution_count": null,
      "outputs": [
        {
          "output_type": "stream",
          "name": "stdout",
          "text": [
            "0\n",
            "0\n",
            "0\n",
            "1\n"
          ]
        }
      ]
    },
    {
      "cell_type": "markdown",
      "source": [
        "OR gate"
      ],
      "metadata": {
        "id": "Yz49fMn65Umq"
      }
    },
    {
      "cell_type": "code",
      "source": [
        "def OR_gate(x1,x2):\n",
        "  weight = np.array([2,2])\n",
        "  bias = -1\n",
        "  x = np.array([x1,x2])\n",
        "  sum = np.dot(weight,x) + bias\n",
        "  return 0 if sum <=0 else 1"
      ],
      "metadata": {
        "id": "DthOWIBg5Tqp"
      },
      "execution_count": null,
      "outputs": []
    },
    {
      "cell_type": "code",
      "source": [
        "for x1, x2 in [(0,0),(0,1),(1,0),(1,1)]:\n",
        "  print(OR_gate(x1,x2))"
      ],
      "metadata": {
        "colab": {
          "base_uri": "https://localhost:8080/"
        },
        "id": "hULyoDg_5SRC",
        "outputId": "2acbc828-66db-4d54-a786-cf2be0423632"
      },
      "execution_count": null,
      "outputs": [
        {
          "output_type": "stream",
          "name": "stdout",
          "text": [
            "0\n",
            "1\n",
            "1\n",
            "1\n"
          ]
        }
      ]
    },
    {
      "cell_type": "markdown",
      "source": [
        "NAND Gate"
      ],
      "metadata": {
        "id": "U1BErsOF5kII"
      }
    },
    {
      "cell_type": "code",
      "source": [
        "def NAND_gate(x1,x2):\n",
        "  weight = np.array([-2,-2])\n",
        "  bias = 3\n",
        "  x = np.array([x1,x2])\n",
        "  sum = np.dot(weight,x) + bias\n",
        "  return 0 if sum <=0 else 1"
      ],
      "metadata": {
        "id": "H7CxtIxa5gCk"
      },
      "execution_count": null,
      "outputs": []
    },
    {
      "cell_type": "code",
      "source": [
        "for x1, x2 in [(0,0),(0,1),(1,0),(1,1)]:\n",
        "  print(NAND_gate(x1,x2))"
      ],
      "metadata": {
        "colab": {
          "base_uri": "https://localhost:8080/"
        },
        "id": "hK6UKOOi6Kts",
        "outputId": "dfff3a30-ed4f-4fbd-ae0b-a1ff256daf54"
      },
      "execution_count": null,
      "outputs": [
        {
          "output_type": "stream",
          "name": "stdout",
          "text": [
            "1\n",
            "1\n",
            "1\n",
            "0\n"
          ]
        }
      ]
    },
    {
      "cell_type": "markdown",
      "source": [
        "- MLP"
      ],
      "metadata": {
        "id": "8t6E_uWiN2-P"
      }
    },
    {
      "cell_type": "code",
      "source": [
        "n1, n2 = [], []\n",
        "for x1, x2 in [(0,0),(0,1),(1,0),(1,1)]:\n",
        "    n1.append(NAND_gate(x1,x2))\n",
        "    n2.append(OR_gate(x1,x2))"
      ],
      "metadata": {
        "id": "GxrY5hRr6ORN"
      },
      "execution_count": null,
      "outputs": []
    },
    {
      "cell_type": "code",
      "source": [
        "for x1, x2 in zip(n1,n2):\n",
        "    print(And_gate(x1,x2))"
      ],
      "metadata": {
        "colab": {
          "base_uri": "https://localhost:8080/"
        },
        "id": "1Xn7bwFwkpog",
        "outputId": "80dc6422-63be-4962-d953-9a3215a35ed5"
      },
      "execution_count": null,
      "outputs": [
        {
          "output_type": "stream",
          "name": "stdout",
          "text": [
            "0\n",
            "1\n",
            "1\n",
            "0\n"
          ]
        }
      ]
    },
    {
      "cell_type": "code",
      "source": [
        "n1, n2"
      ],
      "metadata": {
        "colab": {
          "base_uri": "https://localhost:8080/"
        },
        "id": "FhEhDUk-OI8e",
        "outputId": "1d282531-4399-412a-de34-43e61b2e984d"
      },
      "execution_count": null,
      "outputs": [
        {
          "output_type": "execute_result",
          "data": {
            "text/plain": [
              "([1, 1, 1, 0], [0, 1, 1, 1])"
            ]
          },
          "metadata": {},
          "execution_count": 12
        }
      ]
    },
    {
      "cell_type": "code",
      "source": [
        "for x1, x2 in zip(n1,n2):\n",
        "  print(And_gate(x1,x2))"
      ],
      "metadata": {
        "colab": {
          "base_uri": "https://localhost:8080/"
        },
        "id": "8GTvW-p5OJ9-",
        "outputId": "7b451dfc-3975-4f43-9643-c689d0e1a09c"
      },
      "execution_count": null,
      "outputs": [
        {
          "output_type": "stream",
          "name": "stdout",
          "text": [
            "0\n",
            "1\n",
            "1\n",
            "0\n"
          ]
        }
      ]
    },
    {
      "cell_type": "markdown",
      "source": [
        "- XOR gate"
      ],
      "metadata": {
        "id": "FVOeGqUGOhxf"
      }
    },
    {
      "cell_type": "code",
      "source": [
        "def XOR_gate(x1, x2):\n",
        "  return And_gate(NAND_gate(x1,x2), OR_gate(x1,x2))"
      ],
      "metadata": {
        "id": "0FZavFaFOO4t"
      },
      "execution_count": null,
      "outputs": []
    },
    {
      "cell_type": "code",
      "source": [
        "print('x1,x2\\tn1,n2\\tXOR')\n",
        "for x1, x2 in [(0,0), (0,1), (1,0), (1,1)]:\n",
        "    print(f'{x1:2d},{x2:2d}\\t{NAND_gate(x1,x2):2d},{OR_gate(x1,x2):2d}\\t{XOR_gate(x1,x2):3d}')"
      ],
      "metadata": {
        "colab": {
          "base_uri": "https://localhost:8080/"
        },
        "id": "BZz-QKc3Orxz",
        "outputId": "5af89d6a-fbf7-4a51-e52a-9b19d1cb0f30"
      },
      "execution_count": null,
      "outputs": [
        {
          "output_type": "stream",
          "name": "stdout",
          "text": [
            "x1,x2\tn1,n2\tXOR\n",
            " 0, 0\t 1, 0\t  0\n",
            " 0, 1\t 1, 1\t  1\n",
            " 1, 0\t 1, 1\t  1\n",
            " 1, 1\t 0, 1\t  0\n"
          ]
        }
      ]
    },
    {
      "cell_type": "code",
      "source": [
        ""
      ],
      "metadata": {
        "id": "A-sQsGd2k9BU"
      },
      "execution_count": null,
      "outputs": []
    }
  ]
}