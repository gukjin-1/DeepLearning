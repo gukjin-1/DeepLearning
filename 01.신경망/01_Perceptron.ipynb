{
  "nbformat": 4,
  "nbformat_minor": 0,
  "metadata": {
    "colab": {
      "name": "01_Perceptron.ipynb",
      "provenance": [],
      "collapsed_sections": []
    },
    "kernelspec": {
      "name": "python3",
      "display_name": "Python 3"
    },
    "language_info": {
      "name": "python"
    }
  },
  "cells": [
    {
      "cell_type": "markdown",
      "source": [
        "## Perceptron"
      ],
      "metadata": {
        "id": "QqtUHtFi3uEI"
      }
    },
    {
      "cell_type": "code",
      "execution_count": 1,
      "metadata": {
        "id": "NcrYT7373jJA"
      },
      "outputs": [],
      "source": [
        "import numpy as np"
      ]
    },
    {
      "cell_type": "markdown",
      "source": [
        "And Gate"
      ],
      "metadata": {
        "id": "gy00zw2h3yly"
      }
    },
    {
      "cell_type": "code",
      "source": [
        "weight = np.array([1,1])\n",
        "bias = -1\n",
        "for x1, x2 in [(0,0),(0,1),(1,0),(1,1)]:\n",
        "  sum = weight[0] * x1 + weight[1] * x2 + bias\n",
        "  print(sum)"
      ],
      "metadata": {
        "colab": {
          "base_uri": "https://localhost:8080/"
        },
        "id": "cQrmnYP13xDf",
        "outputId": "53ec8c23-4da1-471b-c80c-74342eb42d07"
      },
      "execution_count": 2,
      "outputs": [
        {
          "output_type": "stream",
          "name": "stdout",
          "text": [
            "-1\n",
            "0\n",
            "0\n",
            "1\n"
          ]
        }
      ]
    },
    {
      "cell_type": "code",
      "source": [
        "# Step 활성화함수\n",
        "for x1, x2 in [(0,0),(0,1),(1,0),(1,1)]:\n",
        "  sum = weight[0] * x1 + weight[1] * x2 + bias\n",
        "  print(0 if sum <=0 else 1)"
      ],
      "metadata": {
        "colab": {
          "base_uri": "https://localhost:8080/"
        },
        "id": "UDoyTycO4Eyh",
        "outputId": "a7e54987-7bed-41e9-9867-73d54a67f105"
      },
      "execution_count": 4,
      "outputs": [
        {
          "output_type": "stream",
          "name": "stdout",
          "text": [
            "0\n",
            "0\n",
            "0\n",
            "1\n"
          ]
        }
      ]
    },
    {
      "cell_type": "code",
      "source": [
        "for x1, x2 in [(0,0),(0,1),(1,0),(1,1)]:\n",
        "  x = np.array([x1,x2])\n",
        "  sum = np.dot(weight,x) + bias\n",
        "  print(0 if sum <=0 else 1)"
      ],
      "metadata": {
        "colab": {
          "base_uri": "https://localhost:8080/"
        },
        "id": "S2Esavz44Ttl",
        "outputId": "f6fcd66a-a52f-4798-e1ed-16c72d301de8"
      },
      "execution_count": 5,
      "outputs": [
        {
          "output_type": "stream",
          "name": "stdout",
          "text": [
            "0\n",
            "0\n",
            "0\n",
            "1\n"
          ]
        }
      ]
    },
    {
      "cell_type": "code",
      "source": [
        "def And_gate(x1,x2):\n",
        "  weight = np.array([1,1])\n",
        "  bias = -1\n",
        "  x = np.array([x1,x2])\n",
        "  sum = np.dot(weight,x) + bias\n",
        "  return 0 if sum <=0 else 1"
      ],
      "metadata": {
        "id": "Xz7ifMCZ40VD"
      },
      "execution_count": 6,
      "outputs": []
    },
    {
      "cell_type": "code",
      "source": [
        "for x1, x2 in [(0,0),(0,1),(1,0),(1,1)]:\n",
        "  print(And_gate(x1,x2))"
      ],
      "metadata": {
        "colab": {
          "base_uri": "https://localhost:8080/"
        },
        "id": "DkRT6Upe5Kjm",
        "outputId": "266e4676-3330-4604-9e01-22663e093ff5"
      },
      "execution_count": 7,
      "outputs": [
        {
          "output_type": "stream",
          "name": "stdout",
          "text": [
            "0\n",
            "0\n",
            "0\n",
            "1\n"
          ]
        }
      ]
    },
    {
      "cell_type": "markdown",
      "source": [
        "OR gate"
      ],
      "metadata": {
        "id": "Yz49fMn65Umq"
      }
    },
    {
      "cell_type": "code",
      "source": [
        "def OR_gate(x1,x2):\n",
        "  weight = np.array([2,2])\n",
        "  bias = -1\n",
        "  x = np.array([x1,x2])\n",
        "  sum = np.dot(weight,x) + bias\n",
        "  return 0 if sum <=0 else 1"
      ],
      "metadata": {
        "id": "DthOWIBg5Tqp"
      },
      "execution_count": 10,
      "outputs": []
    },
    {
      "cell_type": "code",
      "source": [
        "for x1, x2 in [(0,0),(0,1),(1,0),(1,1)]:\n",
        "  print(OR_gate(x1,x2))"
      ],
      "metadata": {
        "colab": {
          "base_uri": "https://localhost:8080/"
        },
        "id": "hULyoDg_5SRC",
        "outputId": "2acbc828-66db-4d54-a786-cf2be0423632"
      },
      "execution_count": 11,
      "outputs": [
        {
          "output_type": "stream",
          "name": "stdout",
          "text": [
            "0\n",
            "1\n",
            "1\n",
            "1\n"
          ]
        }
      ]
    },
    {
      "cell_type": "markdown",
      "source": [
        "NAND Gate"
      ],
      "metadata": {
        "id": "U1BErsOF5kII"
      }
    },
    {
      "cell_type": "code",
      "source": [
        "def NAND_gate(x1,x2):\n",
        "  weight = np.array([-2,-2])\n",
        "  bias = 3\n",
        "  x = np.array([x1,x2])\n",
        "  sum = np.dot(weight,x) + bias\n",
        "  return 0 if sum <=0 else 1"
      ],
      "metadata": {
        "id": "H7CxtIxa5gCk"
      },
      "execution_count": 13,
      "outputs": []
    },
    {
      "cell_type": "code",
      "source": [
        "for x1, x2 in [(0,0),(0,1),(1,0),(1,1)]:\n",
        "  print(NAND_gate(x1,x2))"
      ],
      "metadata": {
        "colab": {
          "base_uri": "https://localhost:8080/"
        },
        "id": "hK6UKOOi6Kts",
        "outputId": "e0158dbd-6762-432d-f128-cc14c5af8702"
      },
      "execution_count": 14,
      "outputs": [
        {
          "output_type": "stream",
          "name": "stdout",
          "text": [
            "1\n",
            "1\n",
            "1\n",
            "0\n"
          ]
        }
      ]
    },
    {
      "cell_type": "code",
      "source": [
        ""
      ],
      "metadata": {
        "id": "GxrY5hRr6ORN"
      },
      "execution_count": null,
      "outputs": []
    }
  ]
}